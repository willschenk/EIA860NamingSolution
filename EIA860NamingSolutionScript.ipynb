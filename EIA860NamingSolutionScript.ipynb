{
 "cells": [
  {
   "cell_type": "code",
   "execution_count": 1,
   "id": "1ef922e1",
   "metadata": {},
   "outputs": [
    {
     "name": "stdout",
     "output_type": "stream",
     "text": [
      "1\n",
      "The latest date last modified in the zip file is: 2022-08-17 05:15:30\n"
     ]
    }
   ],
   "source": [
    "import zipfile\n",
    "import datetime\n",
    "import pandas as pd\n",
    "\n",
    "def get_latest_modified(file_name):\n",
    "    latest_date = None\n",
    "\n",
    "    # Open the zip file\n",
    "    with zipfile.ZipFile(file_name, \"r\") as zip_file:\n",
    "        # Iterate through all the files in the zip file\n",
    "        for file in zip_file.namelist():\n",
    "            if file.endswith('.xlsx'):\n",
    "                # Get the last modified date of the file\n",
    "                info = zip_file.getinfo(file)\n",
    "                last_modified_date = datetime.datetime(*info.date_time)\n",
    "                if latest_date is None or last_modified_date > latest_date:\n",
    "                    latest_date = last_modified_date\n",
    "\n",
    "    return latest_date\n",
    "\n",
    "# Example usage\n",
    "\n",
    "\n",
    "def check_first_row_length(zip_file_path):\n",
    "    # Open the zip file\n",
    "    with zipfile.ZipFile(zip_file_path, \"r\") as zip_file:\n",
    "        # Get the list of file names in the zip file\n",
    "        file_names = zip_file.namelist()\n",
    "\n",
    "        # Check if the zip file contains any Excel files\n",
    "        excel_files = [file for file in file_names if file.endswith('.xlsx')]\n",
    "        if not excel_files:\n",
    "            print(\"No Excel files found in the zip file.\")\n",
    "            return\n",
    "\n",
    "        # Get the first Excel file\n",
    "        first_excel_file = excel_files[0]\n",
    "\n",
    "        # Open the Excel file as a pandas dataframe\n",
    "        with zip_file.open(first_excel_file) as excel_file:\n",
    "            df = pd.read_excel(excel_file)\n",
    "\n",
    "            # Get the values from the first row\n",
    "            first_row_values = df.iloc[0].values\n",
    "\n",
    "            # Check if the first row has more than 40 characters\n",
    "            if any(len(str(value)) > 40 for value in first_row_values):\n",
    "                print(\"1\")\n",
    "            else:\n",
    "                print(\"0\")\n",
    "\n",
    "# Example usage\n",
    "zip_file_path = \"eia860a_er.zip\"\n",
    "#zip_file_path = \"eia8602021.zip\"\n",
    "check_first_row_length(zip_file_path)\n",
    "latest_date = get_latest_modified(zip_file_path)\n",
    "print(f\"The latest date last modified in the zip file is: {latest_date}\") \n",
    "\n",
    "\n"
   ]
  }
 ],
 "metadata": {
  "kernelspec": {
   "display_name": "Python 3 (ipykernel)",
   "language": "python",
   "name": "python3"
  },
  "language_info": {
   "codemirror_mode": {
    "name": "ipython",
    "version": 3
   },
   "file_extension": ".py",
   "mimetype": "text/x-python",
   "name": "python",
   "nbconvert_exporter": "python",
   "pygments_lexer": "ipython3",
   "version": "3.10.9"
  }
 },
 "nbformat": 4,
 "nbformat_minor": 5
}
